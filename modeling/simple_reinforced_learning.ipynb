{
 "cells": [
  {
   "cell_type": "markdown",
   "id": "90e2e5d2",
   "metadata": {},
   "source": [
    "A trader has discovered a source of 1000 unique types of stamps which she can buy in bulk and then sell to a network of 100 merchants through an intermediary. No matter what type of stamp, she pays $1 for each stamp. Each day, she can sell up to 100 bags of stamps (each bag containing one or more different stamps, with no limit on how many stamps can be in each bag),  and she is paid the next day. Unfortunately, the intermediary hides the prices of the individual stamps, and only tells the trader the per-bag price. In order to consistently turn a profit at a reasonable margin, it would be helpful to know which of the 1000 types of stamps are the most valuable, so she could sell bags with only the most valuable stamps. Given 7 days to evaluate 1000 types of stamps using 100 bags/day max, how does she figure out which types of stamps are the most valuable? Please describe two possible approaches, in brief."
   ]
  },
  {
   "cell_type": "code",
   "execution_count": 98,
   "id": "9c7ef153",
   "metadata": {},
   "outputs": [],
   "source": [
    "import numpy as np\n",
    "import pandas as pd\n",
    "import math"
   ]
  },
  {
   "cell_type": "code",
   "execution_count": 232,
   "id": "54900a0b",
   "metadata": {},
   "outputs": [],
   "source": [
    "## create a list of some random prices using a pareto distribution for some separation\n",
    "values = np.random.pareto(10, 1000) * 10"
   ]
  },
  {
   "cell_type": "code",
   "execution_count": 233,
   "id": "b051a259",
   "metadata": {},
   "outputs": [
    {
     "data": {
      "text/plain": [
       "array([[<AxesSubplot:title={'center':'0'}>]], dtype=object)"
      ]
     },
     "execution_count": 233,
     "metadata": {},
     "output_type": "execute_result"
    },
    {
     "data": {
      "image/png": "[encoded data removed]",
      "text/plain": [
       "<Figure size 432x288 with 1 Axes>"
      ]
     },
     "metadata": {
      "needs_background": "light"
     },
     "output_type": "display_data"
    }
   ],
   "source": [
    "## A few stamps represent the big profit most are not realy worth buying\n",
    "pd.DataFrame(values).hist()"
   ]
  },
  {
   "cell_type": "code",
   "execution_count": 234,
   "id": "c6afc721",
   "metadata": {},
   "outputs": [],
   "source": [
    "## create an indice to shuffle around so we can try different \n",
    "## sampling without messing up the values hidden to our method\n",
    "indices = np.array(range(len(values)))"
   ]
  },
  {
   "cell_type": "markdown",
   "id": "9b002fd5",
   "metadata": {},
   "source": [
    "## Brute force -> probablistic small sampling"
   ]
  },
  {
   "cell_type": "code",
   "execution_count": 142,
   "id": "ddaf99f0",
   "metadata": {},
   "outputs": [],
   "source": [
    "def grab_best_x(idxs, vals, group_size, best_x):\n",
    "#     print(\"index length\", len(idxs))\n",
    "    groups = math.ceil(len(idxs) / group_size)\n",
    "    arrays = np.array_split(idxs, groups)\n",
    "    best = {}\n",
    "    print(len(arrays), [aa.shape for aa in arrays][0], groups)\n",
    "    for idx in arrays:\n",
    "        avg = np.mean(vals[idx])\n",
    "        best[avg] = idx\n",
    "    top_x = sorted(best)[-best_x:]\n",
    "    best_indices = []\n",
    "#     print(top_x, best)\n",
    "    for x in top_x:\n",
    "        best_indices.append(best.get(x))\n",
    "    return np.concatenate(best_indices)"
   ]
  },
  {
   "cell_type": "markdown",
   "id": "468b0965",
   "metadata": {},
   "source": [
    "Actual top 20 stamp types"
   ]
  },
  {
   "cell_type": "code",
   "execution_count": 236,
   "id": "ac686619",
   "metadata": {},
   "outputs": [
    {
     "data": {
      "text/plain": [
       "array([ 5.27503922,  5.31735499,  5.52024094,  5.56997251,  5.68191079,\n",
       "        5.74055017,  5.79441766,  5.80513494,  5.96130096,  6.31739445,\n",
       "        6.36461455,  6.38486241,  6.98022371,  7.50833654,  7.61573764,\n",
       "        7.69044632,  8.56287445,  9.29049733, 10.78542221, 11.91880876])"
      ]
     },
     "execution_count": 236,
     "metadata": {},
     "output_type": "execute_result"
    }
   ],
   "source": [
    "np.sort(values)[-20:]"
   ]
  },
  {
   "cell_type": "markdown",
   "id": "16fa1207",
   "metadata": {},
   "source": [
    "### 7 Day\n",
    "7 day brute force, for the first 5 days create 100 bags of 2 stamp types. This will give a value for all stamp types in pairs. Then for the top 100 bags of 2 sample the stamp types individually over 2 days for rank order precision of the top 200 stamps."
   ]
  },
  {
   "cell_type": "code",
   "execution_count": 237,
   "id": "97e634ee",
   "metadata": {},
   "outputs": [
    {
     "name": "stdout",
     "output_type": "stream",
     "text": [
      "500 (2,) 500\n",
      "200 (1,) 200\n",
      "[5.275039215447926, 5.317354991654923, 5.520240936606829, 5.569972510807535, 5.681910793185128, 5.740550173747225, 5.794417657224768, 5.805134940910723, 5.961300957939977, 6.317394451654628, 6.3646145459885535, 6.384862410253815, 6.98022371041489, 7.508336539869315, 7.615737639854885, 7.690446316517936, 8.56287445479543, 9.290497333157186, 10.785422209880085, 11.918808756929721]\n"
     ]
    }
   ],
   "source": [
    "remaining_indices = indices\n",
    "np.random.shuffle(remaining_indices)\n",
    "remaining_indices = grab_best_x(remaining_indices, values, 2, 100) # 100 groups of 2 over 5 days\n",
    "remaining_indices = grab_best_x(remaining_indices, values, 1, 20) # 200 groups of 1 over 2 days\n",
    "print(sorted(values[remaining_indices]))\n"
   ]
  },
  {
   "cell_type": "markdown",
   "id": "5b6ad507",
   "metadata": {},
   "source": [
    "## 5 day\n",
    "For the first 3 days create 100 bags with 3 or 4 stamp types. Then for the top 50 bags of ~3.34 sample the stamp types individually for 2 days this will rank order stamps that happen to be in the top 50 groups of ~3.34. The more price distribution the better this works but its probabalistic. "
   ]
  },
  {
   "cell_type": "code",
   "execution_count": 238,
   "id": "eb8b1e57",
   "metadata": {},
   "outputs": [
    {
     "name": "stdout",
     "output_type": "stream",
     "text": [
      "300 (4,) 300\n",
      "162 (1,) 162\n",
      "[5.275039215447926, 5.317354991654923, 5.520240936606829, 5.569972510807535, 5.681910793185128, 5.740550173747225, 5.794417657224768, 5.805134940910723, 5.961300957939977, 6.317394451654628, 6.3646145459885535, 6.384862410253815, 6.98022371041489, 7.508336539869315, 7.615737639854885, 7.690446316517936, 8.56287445479543, 9.290497333157186, 10.785422209880085, 11.918808756929721]\n"
     ]
    }
   ],
   "source": [
    "remaining_indices = indices\n",
    "np.random.shuffle(remaining_indices)\n",
    "remaining_indices = grab_best_x(remaining_indices, values, 3.34, 50) # 100 groups of 3 to 4 over 3 days\n",
    "remaining_indices = grab_best_x(remaining_indices, values, 1, 20) # 200 groups of 1 over 2 days\n",
    "print(sorted(values[remaining_indices]))"
   ]
  },
  {
   "cell_type": "markdown",
   "id": "16a0f2ad",
   "metadata": {},
   "source": [
    "## 3 day\n",
    "For the first 2 days create 100 bags with 5 stamps types. Then for the top 20 groups of 5 sample the stamp types individually for 1 days this will rank order stamps that happen to be in the top 20 bags of 5. The more price distribution the better this works. But it is probabalistic and weaker result then 5 day."
   ]
  },
  {
   "cell_type": "code",
   "execution_count": 239,
   "id": "74573a24",
   "metadata": {},
   "outputs": [
    {
     "name": "stdout",
     "output_type": "stream",
     "text": [
      "200 (5,) 200\n",
      "100 (1,) 100\n",
      "[3.9060616600508413, 4.056965175158826, 4.5799023178984966, 4.600671037410564, 4.925313962100335, 4.942399646809039, 5.275039215447926, 5.520240936606829, 5.569972510807535, 5.794417657224768, 5.805134940910723, 5.961300957939977, 6.384862410253815, 7.508336539869315, 7.615737639854885, 7.690446316517936, 8.56287445479543, 9.290497333157186, 10.785422209880085, 11.918808756929721]\n"
     ]
    }
   ],
   "source": [
    "remaining_indices = indices\n",
    "np.random.shuffle(remaining_indices)\n",
    "remaining_indices = grab_best_x(remaining_indices, values, 5, 20) # 100 groups of 5 over 2 days\n",
    "remaining_indices = grab_best_x(remaining_indices, values, 1, 20) # 100 groups of 1 over 2 days\n",
    "print(sorted(values[remaining_indices]))"
   ]
  },
  {
   "cell_type": "markdown",
   "id": "31a3e407",
   "metadata": {},
   "source": [
    "## Naive Bayes Approach"
   ]
  },
  {
   "cell_type": "code",
   "execution_count": 240,
   "id": "b62856ed",
   "metadata": {},
   "outputs": [],
   "source": [
    "def build_naive_bayes(idxs, vals, group_size):\n",
    "#     print(\"index length\", len(idxs))\n",
    "    groups = math.ceil(len(idxs) / group_size)\n",
    "    arrays = np.array_split(idxs, groups)\n",
    "    best = {}\n",
    "#     print(len(arrays), [aa.shape for aa in arrays][0], groups)\n",
    "    for idx in arrays:\n",
    "        avg = np.mean(vals[idx])\n",
    "        best[avg] = idx\n",
    "    top_x = sorted(best, reverse=True)\n",
    "    best_indices = []\n",
    "#     print(top_x, best)\n",
    "    for i, x in enumerate(top_x):\n",
    "        best_indices.append([[ix, i] for ix in best.get(x)])\n",
    "    return pd.DataFrame(np.concatenate(best_indices), columns=[\"index\", \"rank\"])"
   ]
  },
  {
   "cell_type": "code",
   "execution_count": 241,
   "id": "56172c48",
   "metadata": {},
   "outputs": [],
   "source": [
    "def rank_by_naive_bayes(days, idxs, vals, groups, top_x=20):\n",
    "    dfs = []\n",
    "    for day in range(days):\n",
    "        np.random.shuffle(idxs)\n",
    "#         print(idxs[:10])\n",
    "        dfs.append(build_naive_bayes(indices, values, groups))\n",
    "    df = pd.concat(dfs)\n",
    "    df[\"val\"] = df[\"index\"].map(lambda x: vals[x])\n",
    "#     return df\n",
    "    groups = df.groupby(\"index\")[['rank', \"val\"]].mean().sort_values(by=\"rank\").head(top_x)\n",
    "    \n",
    "    \n",
    "    return groups"
   ]
  },
  {
   "cell_type": "markdown",
   "id": "fa8fefd6",
   "metadata": {},
   "source": [
    "For the naive bayes approach one would create 100 bags of 10 stamp types and shuffle them every day. Capture how the mean value of each bag rank orders and save it as the rank for each stamp type for a given day. Then group by each stamp type and take the mean rank. Given enough data the more valuable stamps will consistently rank lower then the least valuable stamps. "
   ]
  },
  {
   "cell_type": "code",
   "execution_count": 242,
   "id": "5258b996",
   "metadata": {},
   "outputs": [
    {
     "data": {
      "text/html": [
       "<div>\n",
       "<style scoped>\n",
       "    .dataframe tbody tr th:only-of-type {\n",
       "        vertical-align: middle;\n",
       "    }\n",
       "\n",
       "    .dataframe tbody tr th {\n",
       "        vertical-align: top;\n",
       "    }\n",
       "\n",
       "    .dataframe thead th {\n",
       "        text-align: right;\n",
       "    }\n",
       "</style>\n",
       "<table border=\"1\" class=\"dataframe\">\n",
       "  <thead>\n",
       "    <tr style=\"text-align: right;\">\n",
       "      <th></th>\n",
       "      <th>rank</th>\n",
       "      <th>val</th>\n",
       "    </tr>\n",
       "    <tr>\n",
       "      <th>index</th>\n",
       "      <th></th>\n",
       "      <th></th>\n",
       "    </tr>\n",
       "  </thead>\n",
       "  <tbody>\n",
       "    <tr>\n",
       "      <th>226</th>\n",
       "      <td>2.000000</td>\n",
       "      <td>10.785422</td>\n",
       "    </tr>\n",
       "    <tr>\n",
       "      <th>26</th>\n",
       "      <td>4.571429</td>\n",
       "      <td>11.918809</td>\n",
       "    </tr>\n",
       "    <tr>\n",
       "      <th>237</th>\n",
       "      <td>6.285714</td>\n",
       "      <td>8.562874</td>\n",
       "    </tr>\n",
       "    <tr>\n",
       "      <th>600</th>\n",
       "      <td>7.714286</td>\n",
       "      <td>7.690446</td>\n",
       "    </tr>\n",
       "    <tr>\n",
       "      <th>208</th>\n",
       "      <td>8.857143</td>\n",
       "      <td>7.615738</td>\n",
       "    </tr>\n",
       "    <tr>\n",
       "      <th>101</th>\n",
       "      <td>9.000000</td>\n",
       "      <td>6.980224</td>\n",
       "    </tr>\n",
       "    <tr>\n",
       "      <th>99</th>\n",
       "      <td>9.142857</td>\n",
       "      <td>9.290497</td>\n",
       "    </tr>\n",
       "    <tr>\n",
       "      <th>419</th>\n",
       "      <td>9.285714</td>\n",
       "      <td>5.794418</td>\n",
       "    </tr>\n",
       "    <tr>\n",
       "      <th>28</th>\n",
       "      <td>10.142857</td>\n",
       "      <td>6.317394</td>\n",
       "    </tr>\n",
       "    <tr>\n",
       "      <th>238</th>\n",
       "      <td>13.571429</td>\n",
       "      <td>4.050444</td>\n",
       "    </tr>\n",
       "  </tbody>\n",
       "</table>\n",
       "</div>"
      ],
      "text/plain": [
       "            rank        val\n",
       "index                      \n",
       "226     2.000000  10.785422\n",
       "26      4.571429  11.918809\n",
       "237     6.285714   8.562874\n",
       "600     7.714286   7.690446\n",
       "208     8.857143   7.615738\n",
       "101     9.000000   6.980224\n",
       "99      9.142857   9.290497\n",
       "419     9.285714   5.794418\n",
       "28     10.142857   6.317394\n",
       "238    13.571429   4.050444"
      ]
     },
     "execution_count": 242,
     "metadata": {},
     "output_type": "execute_result"
    }
   ],
   "source": [
    "rank_by_naive_bayes(7, indices, values, 10, 10)"
   ]
  },
  {
   "cell_type": "code",
   "execution_count": 243,
   "id": "98c30459",
   "metadata": {},
   "outputs": [
    {
     "data": {
      "text/html": [
       "<div>\n",
       "<style scoped>\n",
       "    .dataframe tbody tr th:only-of-type {\n",
       "        vertical-align: middle;\n",
       "    }\n",
       "\n",
       "    .dataframe tbody tr th {\n",
       "        vertical-align: top;\n",
       "    }\n",
       "\n",
       "    .dataframe thead th {\n",
       "        text-align: right;\n",
       "    }\n",
       "</style>\n",
       "<table border=\"1\" class=\"dataframe\">\n",
       "  <thead>\n",
       "    <tr style=\"text-align: right;\">\n",
       "      <th></th>\n",
       "      <th>rank</th>\n",
       "      <th>val</th>\n",
       "    </tr>\n",
       "    <tr>\n",
       "      <th>index</th>\n",
       "      <th></th>\n",
       "      <th></th>\n",
       "    </tr>\n",
       "  </thead>\n",
       "  <tbody>\n",
       "    <tr>\n",
       "      <th>26</th>\n",
       "      <td>2.0</td>\n",
       "      <td>11.918809</td>\n",
       "    </tr>\n",
       "    <tr>\n",
       "      <th>600</th>\n",
       "      <td>3.0</td>\n",
       "      <td>7.690446</td>\n",
       "    </tr>\n",
       "    <tr>\n",
       "      <th>226</th>\n",
       "      <td>3.6</td>\n",
       "      <td>10.785422</td>\n",
       "    </tr>\n",
       "    <tr>\n",
       "      <th>237</th>\n",
       "      <td>5.0</td>\n",
       "      <td>8.562874</td>\n",
       "    </tr>\n",
       "    <tr>\n",
       "      <th>208</th>\n",
       "      <td>6.8</td>\n",
       "      <td>7.615738</td>\n",
       "    </tr>\n",
       "    <tr>\n",
       "      <th>671</th>\n",
       "      <td>7.2</td>\n",
       "      <td>4.051392</td>\n",
       "    </tr>\n",
       "    <tr>\n",
       "      <th>877</th>\n",
       "      <td>7.4</td>\n",
       "      <td>6.384862</td>\n",
       "    </tr>\n",
       "    <tr>\n",
       "      <th>99</th>\n",
       "      <td>10.8</td>\n",
       "      <td>9.290497</td>\n",
       "    </tr>\n",
       "    <tr>\n",
       "      <th>140</th>\n",
       "      <td>11.2</td>\n",
       "      <td>2.085729</td>\n",
       "    </tr>\n",
       "    <tr>\n",
       "      <th>512</th>\n",
       "      <td>12.8</td>\n",
       "      <td>0.780564</td>\n",
       "    </tr>\n",
       "  </tbody>\n",
       "</table>\n",
       "</div>"
      ],
      "text/plain": [
       "       rank        val\n",
       "index                 \n",
       "26      2.0  11.918809\n",
       "600     3.0   7.690446\n",
       "226     3.6  10.785422\n",
       "237     5.0   8.562874\n",
       "208     6.8   7.615738\n",
       "671     7.2   4.051392\n",
       "877     7.4   6.384862\n",
       "99     10.8   9.290497\n",
       "140    11.2   2.085729\n",
       "512    12.8   0.780564"
      ]
     },
     "execution_count": 243,
     "metadata": {},
     "output_type": "execute_result"
    }
   ],
   "source": [
    "rank_by_naive_bayes(5, indices, values, 10, 10)"
   ]
  },
  {
   "cell_type": "code",
   "execution_count": 244,
   "id": "f863f6c0",
   "metadata": {},
   "outputs": [
    {
     "data": {
      "text/html": [
       "<div>\n",
       "<style scoped>\n",
       "    .dataframe tbody tr th:only-of-type {\n",
       "        vertical-align: middle;\n",
       "    }\n",
       "\n",
       "    .dataframe tbody tr th {\n",
       "        vertical-align: top;\n",
       "    }\n",
       "\n",
       "    .dataframe thead th {\n",
       "        text-align: right;\n",
       "    }\n",
       "</style>\n",
       "<table border=\"1\" class=\"dataframe\">\n",
       "  <thead>\n",
       "    <tr style=\"text-align: right;\">\n",
       "      <th></th>\n",
       "      <th>rank</th>\n",
       "      <th>val</th>\n",
       "    </tr>\n",
       "    <tr>\n",
       "      <th>index</th>\n",
       "      <th></th>\n",
       "      <th></th>\n",
       "    </tr>\n",
       "  </thead>\n",
       "  <tbody>\n",
       "    <tr>\n",
       "      <th>226</th>\n",
       "      <td>0.000000</td>\n",
       "      <td>10.785422</td>\n",
       "    </tr>\n",
       "    <tr>\n",
       "      <th>600</th>\n",
       "      <td>3.666667</td>\n",
       "      <td>7.690446</td>\n",
       "    </tr>\n",
       "    <tr>\n",
       "      <th>26</th>\n",
       "      <td>4.333333</td>\n",
       "      <td>11.918809</td>\n",
       "    </tr>\n",
       "    <tr>\n",
       "      <th>816</th>\n",
       "      <td>5.000000</td>\n",
       "      <td>4.115546</td>\n",
       "    </tr>\n",
       "    <tr>\n",
       "      <th>99</th>\n",
       "      <td>6.000000</td>\n",
       "      <td>9.290497</td>\n",
       "    </tr>\n",
       "    <tr>\n",
       "      <th>343</th>\n",
       "      <td>6.000000</td>\n",
       "      <td>4.950087</td>\n",
       "    </tr>\n",
       "    <tr>\n",
       "      <th>979</th>\n",
       "      <td>6.666667</td>\n",
       "      <td>1.560184</td>\n",
       "    </tr>\n",
       "    <tr>\n",
       "      <th>101</th>\n",
       "      <td>7.000000</td>\n",
       "      <td>6.980224</td>\n",
       "    </tr>\n",
       "    <tr>\n",
       "      <th>35</th>\n",
       "      <td>7.000000</td>\n",
       "      <td>0.539743</td>\n",
       "    </tr>\n",
       "    <tr>\n",
       "      <th>146</th>\n",
       "      <td>7.333333</td>\n",
       "      <td>1.637570</td>\n",
       "    </tr>\n",
       "  </tbody>\n",
       "</table>\n",
       "</div>"
      ],
      "text/plain": [
       "           rank        val\n",
       "index                     \n",
       "226    0.000000  10.785422\n",
       "600    3.666667   7.690446\n",
       "26     4.333333  11.918809\n",
       "816    5.000000   4.115546\n",
       "99     6.000000   9.290497\n",
       "343    6.000000   4.950087\n",
       "979    6.666667   1.560184\n",
       "101    7.000000   6.980224\n",
       "35     7.000000   0.539743\n",
       "146    7.333333   1.637570"
      ]
     },
     "execution_count": 244,
     "metadata": {},
     "output_type": "execute_result"
    }
   ],
   "source": [
    "rank_by_naive_bayes(3, indices, values, 10, 10)"
   ]
  },
  {
   "cell_type": "markdown",
   "id": "a6f32201",
   "metadata": {},
   "source": [
    "Being probablistic the naive bayes is decent, but not amazing. However, it is easy to set up."
   ]
  },
  {
   "cell_type": "code",
   "execution_count": null,
   "id": "d3f9b3b1",
   "metadata": {},
   "outputs": [],
   "source": []
  }
 ],
 "metadata": {
  "kernelspec": {
   "display_name": "Python 3 (ipykernel)",
   "language": "python",
   "name": "python3"
  },
  "language_info": {
   "codemirror_mode": {
    "name": "ipython",
    "version": 3
   },
   "file_extension": ".py",
   "mimetype": "text/x-python",
   "name": "python",
   "nbconvert_exporter": "python",
   "pygments_lexer": "ipython3",
   "version": "3.9.12"
  }
 },
 "nbformat": 4,
 "nbformat_minor": 5
}
